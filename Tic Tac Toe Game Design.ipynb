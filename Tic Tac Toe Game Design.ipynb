{
 "cells": [
  {
   "cell_type": "markdown",
   "metadata": {},
   "source": [
    "ref: https://www.youtube.com/watch?v=eXBD2bB9-RA&list=PLQVvvaa0QuDeAams7fkdcwOGBpGdHpXln&index=2"
   ]
  },
  {
   "cell_type": "markdown",
   "metadata": {},
   "source": [
    "TIC TAC TO game"
   ]
  },
  {
   "cell_type": "markdown",
   "metadata": {},
   "source": [
    "Note that when defined a list and print, it shows as flat line "
   ]
  },
  {
   "cell_type": "code",
   "execution_count": null,
   "metadata": {},
   "outputs": [],
   "source": [
    "# list \n",
    "game=[0,0,0,\n",
    "      0,0,0,\n",
    "      0,0,0]\n",
    "\n",
    "print(game)"
   ]
  },
  {
   "cell_type": "markdown",
   "metadata": {},
   "source": [
    "To make it in 3 lines we need to change the list of Zero's to be 3 list of zeros as well "
   ]
  },
  {
   "cell_type": "code",
   "execution_count": null,
   "metadata": {},
   "outputs": [],
   "source": [
    "game=[[0,0,0],\n",
    "      [0,0,0],\n",
    "      [0,0,0]]\n",
    "\n",
    "print(game)"
   ]
  },
  {
   "cell_type": "markdown",
   "metadata": {},
   "source": [
    "Using the for loop to print each list row in one line"
   ]
  },
  {
   "cell_type": "code",
   "execution_count": null,
   "metadata": {},
   "outputs": [],
   "source": [
    "game=[[0,0,0],\n",
    "      [0,0,0],\n",
    "      [0,0,0]]\n",
    "\n",
    "for i in game:\n",
    "    print(i)"
   ]
  },
  {
   "cell_type": "markdown",
   "metadata": {},
   "source": [
    "We need to show as index in the top and side , so first we added like index on top using print before the for loop"
   ]
  },
  {
   "cell_type": "code",
   "execution_count": null,
   "metadata": {},
   "outputs": [],
   "source": [
    "game=[[0,0,0],\n",
    "      [0,0,0],\n",
    "      [0,0,0]]\n",
    "\n",
    "print (' a  b  c')\n",
    "for i in game:\n",
    "    print(i)"
   ]
  },
  {
   "cell_type": "markdown",
   "metadata": {},
   "source": [
    "Using a countable variable to print in left side of each row"
   ]
  },
  {
   "cell_type": "code",
   "execution_count": null,
   "metadata": {},
   "outputs": [],
   "source": [
    "game=[[0,0,0],\n",
    "      [0,0,0],\n",
    "      [0,0,0]]\n",
    "\n",
    "# to print a b c in top of each column\n",
    "print ('   a  b  c')\n",
    "\n",
    "# to print 1 0 2 in the left side beside every row\n",
    "count=0\n",
    "for i in game:\n",
    "    print(count,i)\n",
    "    count=count+1"
   ]
  },
  {
   "cell_type": "markdown",
   "metadata": {},
   "source": [
    "For best practice we can replace the count increment by using the built in **enumerate()** function, and remove the part of counting increment (count=count+1)"
   ]
  },
  {
   "cell_type": "markdown",
   "metadata": {},
   "source": [
    "**enumerate()**\n",
    "\n",
    "Return an enumerate object. iterable must be a sequence, an iterator, or some other object which supports iteration. The __next__() method of the iterator returned by enumerate() returns a tuple containing a count (from start which defaults to 0) and the values obtained from iterating over iterable."
   ]
  },
  {
   "cell_type": "code",
   "execution_count": null,
   "metadata": {},
   "outputs": [],
   "source": [
    "game=[[0,0,0],\n",
    "      [0,0,0],\n",
    "      [0,0,0]]\n",
    "\n",
    "# to print a header index\n",
    "print ('   a  b  c')\n",
    "\n",
    "# using enumerate function\n",
    "for count,i in enumerate(game):\n",
    "    print(count,i)"
   ]
  },
  {
   "cell_type": "markdown",
   "metadata": {},
   "source": [
    "to change the value in the list as a player make a move we will use the list index refere to where we want to change , game[0][0] fo instance"
   ]
  },
  {
   "cell_type": "code",
   "execution_count": null,
   "metadata": {},
   "outputs": [],
   "source": [
    "game=[[0,0,0],\n",
    "      [0,0,0],\n",
    "      [0,0,0]]\n",
    "\n",
    "# to print a header index\n",
    "print ('   a  b  c')\n",
    "\n",
    "# using enumerate function\n",
    "for count,i in enumerate(game):\n",
    "    print(count,i)\n",
    "    \n",
    "    \n",
    "# use indexing to change the value of 0b [0][1] to 1 as instance\n",
    "game[0][1]=1\n",
    "\n",
    "#again we need to print the game board to show the changes, we will use the for loop again\n",
    "print('-------------')\n",
    "print ('   a  b  c')\n",
    "\n",
    "# using enumerate function\n",
    "for count,i in enumerate(game):\n",
    "    print(count,i)\n"
   ]
  },
  {
   "cell_type": "markdown",
   "metadata": {},
   "source": [
    "Now we need to take user or player inputs and modify the location on the list as a movement, then we have to repeate the for loop again after any changes that is too much coding, so better to move the for loop to be in a function "
   ]
  },
  {
   "cell_type": "code",
   "execution_count": null,
   "metadata": {},
   "outputs": [],
   "source": [
    "game=[[0,0,0],\n",
    "      [0,0,0],\n",
    "      [0,0,0]]\n",
    "\n",
    "# create a function to do the for loop for updating the game dashboard\n",
    "def game_board():\n",
    "    print ('   a  b  c')\n",
    "    for count,i in enumerate(game):\n",
    "        print(count,i)\n",
    "    print('-------------')\n",
    "\n",
    "# call the function to show the game board\n",
    "game_board()\n",
    "\n",
    "# make the changes of the list items\n",
    "game[0][1]=1\n",
    "\n",
    "# call the function a agin to show the game board after updating\n",
    "game_board()"
   ]
  },
  {
   "cell_type": "markdown",
   "metadata": {},
   "source": [
    "To much repeatation, so will move the part of changing the value inside the function and pass variables to the function like player, row and column where player need to change"
   ]
  },
  {
   "cell_type": "code",
   "execution_count": null,
   "metadata": {},
   "outputs": [],
   "source": [
    "game=[[0,0,0],\n",
    "      [0,0,0],\n",
    "      [0,0,0]]\n",
    "\n",
    "# we can include the passed values to the function as defult defiened variables with default assigned values in between ()\n",
    "# current_player : the player changed value \n",
    "# row_num : the row number of the sub list\n",
    "# col_num : the column number which is the item index inside sub list\n",
    "# Just_display : if no changes to show the default game board with all 0\n",
    "def game_board(current_player=0,row_num=0,col_num=0, just_display=0):\n",
    "    print ('   a  b  c')\n",
    "    # this means there is passed values to be changed as a movement \n",
    "    if not just_display:\n",
    "        # assign value to the list\n",
    "        game[row_num][col_num]=current_player\n",
    "    # just to show the index on the left side\n",
    "    for count,i in enumerate(game):\n",
    "        print(count,i)\n",
    "    print('-------------')\n",
    "\n",
    "# call the function to show only the default game board  \n",
    "game_board(just_display=True)\n",
    "\n",
    "# call the function to passing a value to the game board passing the values of the changes in this case Just_display will be 0 as defined in the function\n",
    "game_board(current_player=1,row_num=2,col_num=1)"
   ]
  },
  {
   "cell_type": "markdown",
   "metadata": {},
   "source": [
    "## Break to understand some basic points"
   ]
  },
  {
   "cell_type": "markdown",
   "metadata": {},
   "source": [
    "if we have a Variable **game**, \n",
    "We changed that Variable value using a function where the modification happened inside that function (variable inside the function is a local only for that function, so the change only will occure whenever we called that function"
   ]
  },
  {
   "cell_type": "markdown",
   "metadata": {},
   "source": [
    "the id of the variable outside the function different than the id of game inside the variable this means both are using different location of the memory, this means the string variabels immutable we can't change."
   ]
  },
  {
   "cell_type": "code",
   "execution_count": null,
   "metadata": {},
   "outputs": [],
   "source": [
    "# Variable\n",
    "game=\"I want to play the game\"\n",
    "# lets use ID of the variable object in the memory\n",
    "print(\"game variable outside id before calling the function: \",id(game))\n",
    "print(\"game variable outside value before calling the function: \", game)\n",
    "\n",
    "def game_board():\n",
    "    # to change the variable value\n",
    "    game=\"the game\"\n",
    "    \n",
    "    print(\"===================================================\")\n",
    "    print(\"===== this values inside the called function ======\")\n",
    "    print(\"game variable ID inside the function is:\", id(game))\n",
    "    print(\"game variable Value inside the function is:\", game)\n",
    "    print(\"===================================================\")\n",
    "\n",
    "\n",
    "# now call the function\n",
    "game_board()\n",
    "\n",
    "print(\"game variable outside Value After calling the function: \", game)\n",
    "print(\"game variable id After calling the function is: \",id(game))"
   ]
  },
  {
   "cell_type": "markdown",
   "metadata": {},
   "source": [
    "Now lets change the game variable from string to a list"
   ]
  },
  {
   "cell_type": "code",
   "execution_count": null,
   "metadata": {},
   "outputs": [],
   "source": [
    "# Variable\n",
    "game = [1,2,3]\n",
    "\n",
    "# lets use ID of the variable object in the memory\n",
    "print(\"game variable outside id before calling the function: \",id(game))\n",
    "print(\"game variable outside value before calling the function: \", game)\n",
    "\n",
    "def game_board():\n",
    "    # to change the variable value\n",
    "    game=\"the game\"\n",
    "    \n",
    "    print(\"===================================================\")\n",
    "    print(\"===== this values inside the called function ======\")\n",
    "    print(\"game variable ID inside the function is:\", id(game))\n",
    "    print(\"game variable Value inside the function is:\", game)\n",
    "    print(\"===================================================\")\n",
    "\n",
    "\n",
    "# now call the function\n",
    "game_board()\n",
    "\n",
    "print(\"game variable outside Value After calling the function: \", game)\n",
    "print(\"game variable id After calling the function is: \",id(game))"
   ]
  },
  {
   "cell_type": "markdown",
   "metadata": {},
   "source": [
    "again when we tried to print the variable after changing from function it still same immutable, but what if we change the variable list items?\n"
   ]
  },
  {
   "cell_type": "code",
   "execution_count": null,
   "metadata": {},
   "outputs": [],
   "source": [
    "game = [1,2,3]\n",
    "# lets use ID of the variable object in the memory\n",
    "print(\"game variable outside id before calling the function: \",id(game))\n",
    "print(\"game variable outside value before calling the function: \", game)\n",
    "\n",
    "def game_board():\n",
    "    # to change the variable value\n",
    "    game[1]=99\n",
    "    \n",
    "    print(\"===================================================\")\n",
    "    print(\"===== this values inside the called function ======\")\n",
    "    print(\"game variable ID inside the function is:\", id(game))\n",
    "    print(\"game variable Value inside the function is:\", game)\n",
    "    print(\"===================================================\")\n",
    "\n",
    "\n",
    "# now call the function\n",
    "game_board()\n",
    "\n",
    "print(\"game variable outside Value After calling the function: \", game)\n",
    "print(\"game variable id After calling the function is: \",id(game))"
   ]
  },
  {
   "cell_type": "markdown",
   "metadata": {},
   "source": [
    "this time game list content modified by the function and if we tried to check the ID inside and outside it will be same"
   ]
  },
  {
   "cell_type": "markdown",
   "metadata": {},
   "source": [
    "Lets try the below quiz for more understanding then will get back to Tic tac to again"
   ]
  },
  {
   "cell_type": "code",
   "execution_count": null,
   "metadata": {},
   "outputs": [],
   "source": [
    "x = 1\n",
    "def test():\n",
    "    # try to change the variable only will affect localy inside the function\n",
    "    x = 2\n",
    "test()\n",
    "print(\"value of x after calling the function, x is: \",x)"
   ]
  },
  {
   "cell_type": "code",
   "execution_count": null,
   "metadata": {},
   "outputs": [],
   "source": [
    "x = 1\n",
    "def test():\n",
    "    global x\n",
    "    x = 2\n",
    "test()\n",
    "print(\"value of x after calling the function, x is: \",x)"
   ]
  },
  {
   "cell_type": "code",
   "execution_count": null,
   "metadata": {},
   "outputs": [],
   "source": [
    "x = [1]\n",
    "def test():\n",
    "    # try to change the variable only will affect localy inside the function\n",
    "    x = [2]\n",
    "test()\n",
    "print(\"value of x after calling the function, x is: \",x)"
   ]
  },
  {
   "cell_type": "code",
   "execution_count": null,
   "metadata": {},
   "outputs": [],
   "source": [
    "x = [1]\n",
    "def test():\n",
    "    # make the variable x globale and modify the variable\n",
    "    global x\n",
    "    x = [2]\n",
    "test()\n",
    "print(\"value of x after calling the function, x is: \",x)"
   ]
  },
  {
   "cell_type": "code",
   "execution_count": null,
   "metadata": {},
   "outputs": [],
   "source": [
    "x = [1]\n",
    "def test():\n",
    "    # modify list items\n",
    "    x[0] = 2\n",
    "test()\n",
    "print(\"value of x after calling the function, x is: \",x)"
   ]
  },
  {
   "cell_type": "markdown",
   "metadata": {},
   "source": [
    "## Breaking the break back to our game"
   ]
  },
  {
   "cell_type": "code",
   "execution_count": null,
   "metadata": {},
   "outputs": [],
   "source": [
    "game=[[0,0,0],\n",
    "      [0,0,0],\n",
    "      [0,0,0]]\n",
    "\n",
    "# bypassing the game variable to the function so now we using the same outside and inside the function \n",
    "def game_board(game_map,current_player=0,row_num=0,col_num=0, just_display=0):\n",
    "    print ('   a  b  c')\n",
    "    if not just_display:\n",
    "        # assign value to the list\n",
    "        game_map[row_num][col_num]=current_player\n",
    "    for count,i in enumerate(game_map):\n",
    "        print(count,i)\n",
    "    print('-------------')\n",
    "    return game_map\n",
    "\n",
    "# call the function to show only the default game board bypassing game as a variable to the function  \n",
    "game = game_board(game, just_display=True)\n",
    "\n",
    "# call the function to passing a value to the game board bypassing game as a variable to the function \n",
    "game = game_board(game, current_player=1,row_num=2,col_num=1)"
   ]
  },
  {
   "cell_type": "markdown",
   "metadata": {},
   "source": [
    "### Error Handling\n",
    "\n",
    "suppose that we will pass a value for index not exsist as in last line of the code row_num=3\n",
    "\n",
    "game = game_board(game, current_player=1,row_num=3,col_num=1)\n",
    "\n",
    "in this case the error is : IndexError , descriping the file name, line number, if you don't know what is the error mean, google it\n",
    "\n",
    "to handle the error we can use \n",
    "try:\n",
    "    our code\n",
    "except: \n",
    "    our message"
   ]
  },
  {
   "cell_type": "code",
   "execution_count": null,
   "metadata": {},
   "outputs": [],
   "source": [
    "game=[[0,0,0],\n",
    "      [0,0,0],\n",
    "      [0,0,0]]\n",
    "\n",
    "def game_board(game_map,current_player=0,row_num=0,col_num=0, just_display=0):\n",
    "    # to handle the error we use try:   except:\n",
    "    try:\n",
    "        print ('   a  b  c')\n",
    "        if not just_display:\n",
    "            # assign value ro the list\n",
    "            game_map[row_num][col_num]=current_player\n",
    "        for count,i in enumerate(game_map):\n",
    "            print(count,i)\n",
    "        print('-------------')\n",
    "        return game_map\n",
    "    # the except to handle the error\n",
    "    except IndexError as e:\n",
    "        print(\"Error: make sure you input row/column as 0 1 0r 2?\",e)\n",
    "\n",
    "# call the function to show only the default game board bypassing game as a variable to the function  \n",
    "game = game_board(game, just_display=True)\n",
    "\n",
    "# call the function to passing a value to the game board bypassing game as a variable to the function \n",
    "game = game_board(game, current_player=1,row_num=3,col_num=1)"
   ]
  },
  {
   "cell_type": "markdown",
   "metadata": {},
   "source": [
    "Try this error handle sample by mistakly writw the print command"
   ]
  },
  {
   "cell_type": "code",
   "execution_count": null,
   "metadata": {},
   "outputs": [],
   "source": [
    "fprint(\"hellow world\")"
   ]
  },
  {
   "cell_type": "code",
   "execution_count": null,
   "metadata": {},
   "outputs": [],
   "source": [
    "# now to handle that error will use try:, except:\n",
    "try:\n",
    "    fprint(\"hellow world\")\n",
    "except:\n",
    "     print (\"something wrong\")"
   ]
  },
  {
   "cell_type": "markdown",
   "metadata": {},
   "source": [
    "so will note what error is in our case **NameError**: name 'fprint' is not defined\n",
    "    so we will use as below"
   ]
  },
  {
   "cell_type": "code",
   "execution_count": null,
   "metadata": {},
   "outputs": [],
   "source": [
    "# now to handle that error using the error name and add extra exception\n",
    "try:\n",
    "    fprint(\"hellow world\")\n",
    "except NameError as e:\n",
    "    print (\"something wrong, please check your code spelling\")\n",
    "except Exception as e:\n",
    "    print (\"something wrong\")"
   ]
  },
  {
   "cell_type": "markdown",
   "metadata": {},
   "source": [
    "calculating the winner of tic tac:\n",
    "\n",
    "- Horizontally\n",
    "- vertically\n",
    "- diagonally\n",
    "\n",
    "**- Horizontally**"
   ]
  },
  {
   "cell_type": "code",
   "execution_count": null,
   "metadata": {},
   "outputs": [],
   "source": [
    "game=[[1,1,1],\n",
    "      [0,2,0],\n",
    "      [2,2,0]]\n",
    "\n",
    "def win(current_game):\n",
    "    for row in game:\n",
    "        print(row)\n",
    "        # assigning the first index for each row to values col1,2,3\n",
    "        col1 = row[0]\n",
    "        col2 = row[1]\n",
    "        col3 = row[2]\n",
    "        \n",
    "        # check if the 3 variable are equal if yes it will write a winner otherwise nothing\n",
    "        if col1 == col2 == col3:\n",
    "            print(\"winner!!!\")\n",
    "win(game)"
   ]
  },
  {
   "cell_type": "markdown",
   "metadata": {},
   "source": [
    "this part below is working but we can rewrite in a better way using foor loop\n",
    ">        col1 = row[0]\n",
    ">        col2 = row[1]\n",
    ">        col3 = row[2]\n",
    ">        \n",
    ">        # check if the 3 variable are equal if yes it will write a winner otherwise nothing\n",
    ">        if col1 == col2 == col3:\n",
    ">            print(\"winner!!!\")"
   ]
  },
  {
   "cell_type": "code",
   "execution_count": null,
   "metadata": {},
   "outputs": [],
   "source": [
    "game=[[1,0,1],\n",
    "      [1,1,1],\n",
    "      [2,2,0]]\n",
    "\n",
    "def win(current_game):\n",
    "    # using for loop to access line by line or row by row\n",
    "    for row in game:\n",
    "        print(row)  \n",
    "        # adding new boolean variable all_match assigning true as default.\n",
    "        all_match= True\n",
    "        # using sub for loop to access the items of each row item by item\n",
    "        for item in row:\n",
    "            if item != row[0]:\n",
    "                all_match = False\n",
    "        if all_match:\n",
    "            print(\"winner!!!\")\n",
    "win(game)"
   ]
  },
  {
   "cell_type": "code",
   "execution_count": null,
   "metadata": {},
   "outputs": [],
   "source": [
    "# for tracing how for loop working pres SHIFT + ENTER and look at the result\n",
    "game=[[1,0,1],\n",
    "      [1,1,1],\n",
    "      [2,2,0]]\n",
    "\n",
    "def win(current_game):\n",
    "    # using for loop to access line by line or row by row\n",
    "    for row in game:\n",
    "        print(\"first for\",row)  \n",
    "        # adding new boolean variable all_match assigning true as default.\n",
    "        all_match= True\n",
    "        # using sub for loop to access the items of each row item by item\n",
    "        for item in row:\n",
    "            print(\"sub for item: \",item)\n",
    "            print(\"sub for row[0]: \",row[0])\n",
    "            if item != row[0]:\n",
    "                print(f\"from if in sub for this mean item:({item}) not equal row: ({row[0]})\")\n",
    "                all_match = False\n",
    "                print(\"all_match value is: \",all_match)\n",
    "        print()\n",
    "        if all_match:\n",
    "            print(\"winner!!!\")\n",
    "            print()\n",
    "win(game)"
   ]
  },
  {
   "cell_type": "markdown",
   "metadata": {},
   "source": [
    "### Final Horizontally winner check code will be:"
   ]
  },
  {
   "cell_type": "markdown",
   "metadata": {},
   "source": [
    "We can simpify the code below as well:\n",
    "> all_match= True\n",
    ">        # using sub for loop to access the items of each row item by item\n",
    ">        for item in row:\n",
    ">            if item != row[0]:\n",
    ">                all_match = False\n",
    ">        if all_match:\n",
    ">            print(\"winner!!!\")\n",
    "\n",
    "Using: \n",
    "> - **row.count(row[0])**: counting the items in that row which is similar to the firs item\n",
    "> - **len(row)** : counting for all items in that row\n",
    "> - **row[0] !=0** : to make sure 0 value will not be included as a winner \n",
    "\n",
    "> if row.count(row[0]) == len(row) and row[0] !=0:"
   ]
  },
  {
   "cell_type": "code",
   "execution_count": null,
   "metadata": {},
   "outputs": [],
   "source": [
    "game=[[0,0,0],\n",
    "      [1,0,1],\n",
    "      [0,0,0]]\n",
    "\n",
    "def win(current_game):\n",
    "    for row in game:\n",
    "        # adding more print details to understand each steps\n",
    "        print(row)  \n",
    "        print (\"row.count : \", row.count(row[0]))\n",
    "        print (\"len(row) : \", len(row))\n",
    "        if row.count(row[0]) == len(row) and row[0] !=0:\n",
    "                     print(\"Winner!!!\")\n",
    "win(game)"
   ]
  },
  {
   "cell_type": "code",
   "execution_count": null,
   "metadata": {},
   "outputs": [],
   "source": [
    "game=[[1,0,1],\n",
    "      [1,0,1],\n",
    "      [0,0,0]]\n",
    "\n",
    "def win(current_game):\n",
    "    for row in game:\n",
    "        print(row)  \n",
    "        if row.count(row[0]) == len(row) and row[0] !=0:\n",
    "                     print(\"Winner!!!\")\n",
    "win(game)"
   ]
  },
  {
   "cell_type": "markdown",
   "metadata": {},
   "source": [
    "- **Vertically**\n",
    "check the winner in vertically"
   ]
  },
  {
   "cell_type": "code",
   "execution_count": null,
   "metadata": {},
   "outputs": [],
   "source": [
    "game=[[1,0,1],\n",
    "      [1,0,1],\n",
    "      [1,0,0]]\n",
    "\n",
    "# create empty list to append the checked number to it then count if all are same or not\n",
    "check=[]\n",
    "\n",
    "for row in game:\n",
    "    print (\"row to be appended\", row[0])\n",
    "    check.append(row[0])\n",
    "    print (\"check list after append the row\",check)\n",
    "    \n",
    "# will use the same concept which used in horizontl to count the similar items\n",
    "if check.count(check[0]) == len(check) and check[0] !=0:\n",
    "    print(\"winner!!\")"
   ]
  },
  {
   "cell_type": "markdown",
   "metadata": {},
   "source": [
    "### Final Vertically winner check"
   ]
  },
  {
   "cell_type": "code",
   "execution_count": null,
   "metadata": {},
   "outputs": [],
   "source": [
    "game=[[1,0,1],\n",
    "      [1,0,1],\n",
    "      [1,0,0]]\n",
    "\n",
    "# to make it more dynamic will use in for loop the range of game lenth\n",
    "# then do the check repeated as the number of items in the column list\n",
    "for col in range(len(game)):\n",
    "    # create empty list to append the checked number to it then count if all are same or not\n",
    "    check=[]\n",
    "\n",
    "    for row in game:\n",
    "        # using to much print to understand the process how is it working, but you can remove the print lines\n",
    "        print (\"item to be appended\", row[col])\n",
    "        check.append(row[col])\n",
    "        print (\"check list after append the item\",check)\n",
    "    print()\n",
    "    if check.count(check[0]) == len(check) and check[0] !=0:\n",
    "        print(\"winner!!\")\n",
    "    print()"
   ]
  },
  {
   "cell_type": "markdown",
   "metadata": {},
   "source": [
    "- **Diagonally winner check** check the winner diagonally"
   ]
  },
  {
   "cell_type": "code",
   "execution_count": null,
   "metadata": {},
   "outputs": [],
   "source": [
    "# first part usually we will work with the long simple way to understand the flow and concept then will try to simplify the code using loops and conditions\n",
    "game=[[1,0,1],\n",
    "      [0,1,0],\n",
    "      [0,0,1]]\n",
    "# this is for the diagonal equality check, but still not dynamic code will work around in the next\n",
    "print (\"game[0][0]: \",game[0][0])\n",
    "print (\"game[1][1]: \",game[1][1])\n",
    "print (\"game[2][2]: \",game[2][2])\n",
    "if game[0][0] == game[1][1] == game[2][2]:\n",
    "    print()\n",
    "    print(\"winner!!\")\n",
    "    print()\n",
    "    \n",
    "print (\"game[2][0]: \",game[2][0])\n",
    "print (\"game[1][1]: \",game[1][1])\n",
    "print (\"game[0][2]: \",game[0][2])\n",
    "if game[2][0] ==game[1][1]==game[0][2]:\n",
    "    print()\n",
    "    print(\"winner!!\")"
   ]
  },
  {
   "cell_type": "code",
   "execution_count": null,
   "metadata": {},
   "outputs": [],
   "source": [
    "# insted of using the items in the list one by one for the diagonal items we will use for loop\n",
    "game=[[1,0,1],\n",
    "      [0,1,0],\n",
    "      [0,0,1]]\n",
    "\n",
    "# will build an empty list to collect the diagonal the way of 00,11,22\n",
    "diag=[]\n",
    "for ix in range (len(game)):\n",
    "    print (\"ix value: \",ix)\n",
    "    print (\"item to be appended\", game[ix][ix])\n",
    "    diag.append(game[ix][ix])\n",
    "    print (\"check list after append the item\",diag)\n",
    "    print()\n",
    "print (\"diag list after collectign the diagonal 00,11,22 is: \", diag)"
   ]
  },
  {
   "cell_type": "code",
   "execution_count": null,
   "metadata": {},
   "outputs": [],
   "source": [
    "game=[[1,0,1],\n",
    "      [0,1,0],\n",
    "      [0,0,1]]\n",
    "\n",
    "# to collect the other diagonal items we will build a list to collect the diagonal the way of 02,11,20\n",
    "diag=[]\n",
    "# will use the reverse(range(len(game)))\n",
    "\n",
    "\n",
    "\n",
    "\n",
    "cols = list(reversed(range (len(game))))\n",
    "rows = range(len(game))\n",
    "\n",
    "print(\"Len(game) :\", len(game))\n",
    "print(\"Range (len(game)) variable name rows :\", rows)\n",
    "print(\"list(Range (len(game))) as list :\", list(range (len(game))))\n",
    "print(\"Reversed(range (len(game))) converting as a list variable name cols: \", cols)\n",
    "print()\n",
    "\n",
    "for idx in rows:\n",
    "    print (\"idx, cols[idx] values: \",idx , cols[idx])\n",
    "    print (\"item to be appended\", game[idx][cols[idx]])\n",
    "    diag.append(game[idx][cols[idx]])\n",
    "    print (\"item to be appended\", game[idx][cols[idx]])\n",
    "print (diag)\n"
   ]
  },
  {
   "cell_type": "markdown",
   "metadata": {},
   "source": [
    "we can use zip example to understand it"
   ]
  },
  {
   "cell_type": "code",
   "execution_count": null,
   "metadata": {},
   "outputs": [],
   "source": [
    "x=range(3)\n",
    "print(\"show x as a list: \",list(x))\n",
    "y=[2,1,0]\n",
    "print (\"show y list     : \", y)\n",
    "# this will create zip object\n",
    "zip(x,y)\n",
    "print()\n",
    "print(\"by zip x and y it will be:\")\n",
    "for i in zip(x,y):\n",
    "    print(i)\n",
    "    \n",
    "#what if we add more variable\n",
    "z=[1,0,1]\n",
    "# again try to zip(x,y,z)\n",
    "print()\n",
    "print(\"show x as a list: \",list(x))\n",
    "print (\"show y list     : \", y)\n",
    "print (\"show z list     : \", z)\n",
    "\n",
    "print(\"by zip x and y and z it will be:\")\n",
    "for i in zip(x,y,z):\n",
    "    print(i)"
   ]
  },
  {
   "cell_type": "code",
   "execution_count": null,
   "metadata": {},
   "outputs": [],
   "source": [
    "game=[[1,0,1],\n",
    "      [0,1,0],\n",
    "      [0,0,1]]\n",
    "\n",
    "# will build a list to collect the diagonal the way of 02,11,20\n",
    "\n",
    "print(\"reversed(range (len(game))) as list :\", list(reversed(range (len(game)))))\n",
    "print(\"range(len(game)) as list :\", list(range(len(game))))\n",
    "print()\n",
    "for col,row in zip(reversed(range (len(game))),range(len(game))):\n",
    "    print(col,row)"
   ]
  },
  {
   "cell_type": "code",
   "execution_count": null,
   "metadata": {},
   "outputs": [],
   "source": [
    "game=[[1,0,1],\n",
    "      [0,1,0],\n",
    "      [0,0,1]]\n",
    "\n",
    "### this code for Diagonal ####\n",
    "###############################\n",
    "# will build a list to collect the diagonal the way of 02,11,20\n",
    "# we can replace the code  for col,row in zip(reversed(range (len(game))),range(len(game))) using enumirate as below in for loop\n",
    "print(\"enumerate(reversed(range (len(game)))) :\", list(enumerate(reversed(range (len(game))))))\n",
    "print()\n",
    "diags=[]\n",
    "for col,row in enumerate(reversed(range (len(game)))):\n",
    "    print (f\"(row, col) value: ({row} , {col})\")\n",
    "    print (\"item to be appended to diags list\", game[row][col])\n",
    "    diags.append(game[row][col])\n",
    "    print()\n",
    "print (\"diags list of the left diagons now is: \",diags)\n",
    "print()\n"
   ]
  },
  {
   "cell_type": "markdown",
   "metadata": {},
   "source": [
    "## Now Bringing things together - Iterators/Iterables"
   ]
  },
  {
   "cell_type": "code",
   "execution_count": null,
   "metadata": {},
   "outputs": [],
   "source": [
    "game=[[1,0,1],\n",
    "      [1,1,0],\n",
    "      [2,2,2]]\n",
    "\n",
    "#this code for Horizontal\n",
    "def win(current_game):\n",
    "    for row in game:\n",
    "        print(row)  \n",
    "        if row.count(row[0]) == len(row) and row[0] !=0:\n",
    "                     print(f\"Player {row[0]} is the Winner horizontally (-)!!!\")\n",
    "#this code for Diagonal\n",
    "    diags=[]\n",
    "    for col,row in enumerate(reversed(range (len(game)))):\n",
    "        diags.append(game[row][col])\n",
    "    if diags.count(diags[0]) == len(diags) and diags[0] !=0:\n",
    "        print(f\"Player {diags[0]} is the Winner diagnolly (/)!!!\")\n",
    "\n",
    "    diag=[]\n",
    "    for ix in range (len(game)):\n",
    "        diag.append(game[ix][ix])\n",
    "    if diag.count(diag[0]) == len(diag) and diag[0] !=0:\n",
    "        print(f\"Player {diag[0]} is the Winner diagnolly (\\\\)!!!\")\n",
    "# this code for Vertical\n",
    "    for col in range(len(game)):\n",
    "        check=[]\n",
    "        for row in game:\n",
    "            check.append(row[col])\n",
    "        if check.count(check[0]) == len(check) and check[0] !=0:\n",
    "            print(f\"Player {check[0]} is the Winner Vertically (|)!!!\")\n",
    "\n",
    "\n",
    "def game_board(game_map,current_player=0,row_num=0,col_num=0, just_display=0):\n",
    "    # to handle the error we use try:   except:\n",
    "    try:\n",
    "        print ('   a  b  c')\n",
    "        if not just_display:\n",
    "            # assign value ro the list\n",
    "            game_map[row_num][col_num]=current_player\n",
    "        for count,i in enumerate(game_map):\n",
    "            print(count,i)\n",
    "        print('-------------')\n",
    "        return game_map\n",
    "    # the except to handle the error\n",
    "    except IndexError as e:\n",
    "        print(\"Error: make sure you input row/column as 0 1 0r 2?\",e)\n",
    "        \n",
    "play = True\n",
    "players =[1,2]\n",
    "while play:\n",
    "    game=[[0,0,0],\n",
    "          [0,0,0],\n",
    "          [0,0,0]]\n",
    "    game_won=False\n",
    "    game = game_board(game, just_display=True)\n",
    "    while not game_won:\n",
    "        current_player=1\n",
    "        column_choice= int(input(\"what column do you want to play? (0,1,2): \"))\n",
    "        row_choice= int(input(\"what row do you want to play? (0,1,2): \"))\n",
    "        game = game_board(game, current_player,row_choice,column_choice)\n",
    "        "
   ]
  },
  {
   "cell_type": "markdown",
   "metadata": {},
   "source": [
    "now we need to switch between players, lets try this to understand how it is working, Iterrate between players"
   ]
  },
  {
   "cell_type": "code",
   "execution_count": null,
   "metadata": {},
   "outputs": [],
   "source": [
    "players=[1,0]\n",
    "choice = 1\n",
    "for i in range(10):\n",
    "    current_player=choice\n",
    "    print(current_player)\n",
    "    choice=players[choice]"
   ]
  },
  {
   "cell_type": "code",
   "execution_count": null,
   "metadata": {},
   "outputs": [],
   "source": [
    "players=1\n",
    "if players==1:\n",
    "    input(f\"player {players} turn, what is your chois: \")\n",
    "    players=2\n",
    "elif players==2:\n",
    "    input(f\"player {players} turn, what is your chois : \")\n",
    "    players=1"
   ]
  },
  {
   "cell_type": "markdown",
   "metadata": {},
   "source": [
    "#### **Iterable:** a thing we can iterate over object like list\n",
    "\n",
    "#### **iterator:** a special object with next() has extra methods associated with it"
   ]
  },
  {
   "cell_type": "code",
   "execution_count": null,
   "metadata": {},
   "outputs": [],
   "source": [
    "x=[1,2,3,4] # iterable.\n",
    "\n",
    "# we can't do print(next(x))\n",
    "print(next(x))"
   ]
  },
  {
   "cell_type": "code",
   "execution_count": null,
   "metadata": {},
   "outputs": [],
   "source": [
    "#but we can iterate over it \n",
    "for i in x:\n",
    "    print(i)"
   ]
  },
  {
   "cell_type": "code",
   "execution_count": null,
   "metadata": {},
   "outputs": [],
   "source": []
  },
  {
   "cell_type": "code",
   "execution_count": null,
   "metadata": {},
   "outputs": [],
   "source": [
    "import itertools\n",
    "x=[1,2,3,4] #iterable.\n",
    "n=itertools.cycle(x) # iterator  ... iterable\n",
    "print(next(n))\n",
    "# every print line with next will increased by one\n",
    "print(next(n))\n",
    "print(next(n))"
   ]
  },
  {
   "cell_type": "code",
   "execution_count": null,
   "metadata": {},
   "outputs": [],
   "source": [
    "# import the itertools firs\n",
    "import itertools\n",
    "#asign variable the itertools.cycle\n",
    "player_choice = itertools.cycle([1,2])\n",
    "\n",
    "for i in range(10):\n",
    "    print(next(player_choice))"
   ]
  },
  {
   "cell_type": "code",
   "execution_count": null,
   "metadata": {},
   "outputs": [],
   "source": [
    "# we can change the iterable to iterator using iter()\n",
    "x=[1,2,3,4]\n",
    "\n",
    "y = iter(x) # iterator!   ... also iterable\n",
    "\n",
    "# then we can eterate over y\n",
    "#for i in y:\n",
    "#    print(i)\n",
    "\n",
    "# we can also use print(next(y))\n",
    "# print(next(y))\n",
    "# print(next(y))\n",
    "\n",
    "next(y)\n",
    "# because we used next before if result is 1 the next for loop will start after 1\n",
    "for i in y:\n",
    "    print(i)"
   ]
  },
  {
   "cell_type": "markdown",
   "metadata": {},
   "source": [
    "back again to our TIC TAC TOE"
   ]
  },
  {
   "cell_type": "code",
   "execution_count": null,
   "metadata": {},
   "outputs": [],
   "source": [
    "import itertools\n",
    "game=[[1,0,1],\n",
    "      [1,1,0],\n",
    "      [2,2,2]]\n",
    "\n",
    "#this code for Horizontal\n",
    "def win(current_game):\n",
    "    for row in game:\n",
    "        print(row)  \n",
    "        if row.count(row[0]) == len(row) and row[0] !=0:\n",
    "                     print(f\"Player {row[0]} is the Winner horizontally (-)!!!\")\n",
    "#this code for Diagonal\n",
    "    diags=[]\n",
    "    for col,row in enumerate(reversed(range (len(game)))):\n",
    "        diags.append(game[row][col])\n",
    "    if diags.count(diags[0]) == len(diags) and diags[0] !=0:\n",
    "        print(f\"Player {diags[0]} is the Winner diagnolly (/)!!!\")\n",
    "\n",
    "    diag=[]\n",
    "    for ix in range (len(game)):\n",
    "        diag.append(game[ix][ix])\n",
    "    if diag.count(diag[0]) == len(diag) and diag[0] !=0:\n",
    "        print(f\"Player {diag[0]} is the Winner diagnolly (\\\\)!!!\")\n",
    "# this code for Vertical\n",
    "    for col in range(len(game)):\n",
    "        check=[]\n",
    "        for row in game:\n",
    "            check.append(row[col])\n",
    "        if check.count(check[0]) == len(check) and check[0] !=0:\n",
    "            print(f\"Player {check[0]} is the Winner Vertically (|)!!!\")\n",
    "\n",
    "\n",
    "def game_board(game_map,current_player=0,row_num=0,col_num=0, just_display=0):\n",
    "    # to handle the error we use try:   except:\n",
    "    try:\n",
    "        print ('   a  b  c')\n",
    "        if not just_display:\n",
    "            # assign value ro the list\n",
    "            game_map[row_num][col_num]=current_player\n",
    "        for count,i in enumerate(game_map):\n",
    "            print(count,i)\n",
    "        print('-------------')\n",
    "        return game_map\n",
    "    # the except to handle the error\n",
    "    except IndexError as e:\n",
    "        print(\"Error: make sure you input row/column as 0 1 0r 2?\",e)\n",
    "        \n",
    "play = True\n",
    "players =[1,2]\n",
    "while play:\n",
    "    game=[[0,0,0],\n",
    "          [0,0,0],\n",
    "          [0,0,0]]\n",
    "    game_won=False\n",
    "    game = game_board(game, just_display=True)\n",
    "    player_choice = itertools.cycle([1,2])\n",
    "    while not game_won:\n",
    "        current_player=next(player_choice)\n",
    "        print(f\"Current Player: {current_player}\")\n",
    "        column_choice= int(input(\"what column do you want to play? (0,1,2): \"))\n",
    "        row_choice= int(input(\"what row do you want to play? (0,1,2): \"))\n",
    "        game = game_board(game, current_player,row_choice,column_choice)\n",
    "        "
   ]
  },
  {
   "cell_type": "markdown",
   "metadata": {},
   "source": [
    "## Now Clean up\n",
    "first to fix the issue where player can play over the other player overwriting his choice."
   ]
  },
  {
   "cell_type": "code",
   "execution_count": null,
   "metadata": {},
   "outputs": [],
   "source": [
    "import itertools\n",
    "game=[[1,0,1],\n",
    "      [1,1,0],\n",
    "      [2,2,2]]\n",
    "\n",
    "#this code for Horizontal\n",
    "def win(current_game):\n",
    "    # creating a function to replace all repated lines\n",
    "    def all_same(l):\n",
    "        if l.count(l[0]) == len(l) and l[0] !=0:\n",
    "            return True\n",
    "        else:\n",
    "            return False       \n",
    "    for row in game:\n",
    "        print(row)  \n",
    "        if all_same(row):\n",
    "            print(f\"Player {row[0]} is the Winner horizontally (-)!!!\")\n",
    "            return True\n",
    "#this code for Diagonal\n",
    "    diags=[]\n",
    "    for col,row in enumerate(reversed(range (len(game)))):\n",
    "        diags.append(game[row][col])\n",
    "    if all_same(diags):\n",
    "        print(f\"Player {diags[0]} is the Winner diagnolly (/)!!!\")\n",
    "        return True\n",
    "\n",
    "    diag=[]\n",
    "    for ix in range (len(game)):\n",
    "        diag.append(game[ix][ix])\n",
    "    if all_same(diag):\n",
    "        print(f\"Player {diag[0]} is the Winner diagnolly (\\\\)!!!\")\n",
    "        return True\n",
    "    \n",
    "# this code for Vertical\n",
    "    for col in range(len(game)):\n",
    "        check=[]\n",
    "        for row in game:\n",
    "            check.append(row[col])\n",
    "        if all_same(check):\n",
    "            print(f\"Player {check[0]} is the Winner Vertically (|)!!!\")\n",
    "            return True\n",
    "    return False\n",
    "\n",
    "def game_board(game_map,current_player=0,row_num=0,col_num=0, just_display=0):\n",
    "    # to handle the error we use try:   except:\n",
    "    try:\n",
    "        if game_map[row_num][col_num] !=0:\n",
    "            print(\"This position is already used, chose another!\")\n",
    "            return game_map, False # to back to your turn again\n",
    "        print ('   0  1  2')\n",
    "        if not just_display:\n",
    "            # assign value ro the list\n",
    "            game_map[row_num][col_num]=current_player\n",
    "        for count,i in enumerate(game_map):\n",
    "            print(count,i)\n",
    "        print('-------------')\n",
    "        return game_map, True\n",
    "    # the except to handle the error\n",
    "    except IndexError as e:\n",
    "        print(\"Error: make sure you input row/column as 0 1 0r 2?\",e)\n",
    "        return game_map, False \n",
    "    except Exception as e:\n",
    "        print(\"Something wrong!\",e)\n",
    "        return game_map, False\n",
    "play = True\n",
    "players =[1,2]\n",
    "while play:\n",
    "    game=[[0,0,0],\n",
    "          [0,0,0],\n",
    "          [0,0,0]]\n",
    "    game_won = False\n",
    "    game,_ = game_board(game, just_display=True)\n",
    "    player_choice = itertools.cycle([1,2])\n",
    "    while not game_won:\n",
    "        current_player=next(player_choice)\n",
    "        print(f\"Current Player: {current_player}\")\n",
    "        played = False\n",
    "        while not played:\n",
    "            column_choice= int(input(\"what column do you want to play? (0,1,2): \"))\n",
    "            row_choice= int(input(\"what row do you want to play? (0,1,2): \"))\n",
    "            game,played = game_board(game, current_player,row_choice,column_choice)\n",
    "        if win(game):\n",
    "            game_won = True\n",
    "            again=input(\"the game is over, would you like to play again? (y/n)\")   \n",
    "            if again.lower() == \"y\":\n",
    "                print(\"restarting\")\n",
    "            elif again.lower() == \"n\":\n",
    "                print(\"Byeeeee\")\n",
    "                play = False\n",
    "            else:\n",
    "                print(\"not a valid answer, so .... c u l8r aligator\")\n",
    "                play = False"
   ]
  },
  {
   "cell_type": "markdown",
   "metadata": {},
   "source": [
    "last thing for the part of print(\"    0  1  2\") to rewrite in a good way"
   ]
  },
  {
   "cell_type": "code",
   "execution_count": null,
   "metadata": {},
   "outputs": [],
   "source": [
    "game_size = 3\n",
    "s=\"   \"\n",
    "for i in range(game_size):\n",
    "    s += \"  \"+str(i)\n",
    "print(s)"
   ]
  },
  {
   "cell_type": "code",
   "execution_count": null,
   "metadata": {},
   "outputs": [],
   "source": [
    "# another way:\n",
    "s=\"   \"+\"  \".join([str(i) for i in range(game_size)])\n",
    "print(s)"
   ]
  },
  {
   "cell_type": "markdown",
   "metadata": {},
   "source": [
    "### to make the game size dynamic\n"
   ]
  },
  {
   "cell_type": "code",
   "execution_count": null,
   "metadata": {},
   "outputs": [],
   "source": [
    "game_size = 5\n",
    "game=[]\n",
    "for i in range(game_size):\n",
    "    row=[]\n",
    "    for i in range(game_size):\n",
    "        row.append(0)\n",
    "    game.append(row)\n",
    "\n",
    "print(game)"
   ]
  },
  {
   "cell_type": "code",
   "execution_count": null,
   "metadata": {},
   "outputs": [],
   "source": [
    "# we can make same in one line\n",
    "game_size = int(input(\"what size game of tic tac to: \"))\n",
    "game=[[0 for i in range(game_size)] for i in range(game_size)]"
   ]
  },
  {
   "cell_type": "code",
   "execution_count": null,
   "metadata": {},
   "outputs": [],
   "source": [
    "import itertools\n",
    "game=[[1,0,1],\n",
    "      [1,1,0],\n",
    "      [2,2,2]]\n",
    "\n",
    "#this code for Horizontal\n",
    "def win(current_game):\n",
    "    # creating a function to replace all repated lines\n",
    "    def all_same(l):\n",
    "        if l.count(l[0]) == len(l) and l[0] !=0:\n",
    "            return True\n",
    "        else:\n",
    "            return False\n",
    "                    \n",
    "    for row in game:\n",
    "        print(row)  \n",
    "        if all_same(row):\n",
    "            print(f\"Player {row[0]} is the Winner horizontally (-)!!!\")\n",
    "            return True\n",
    "#this code for Diagonal\n",
    "    diags=[]\n",
    "    for col,row in enumerate(reversed(range (len(game)))):\n",
    "        diags.append(game[row][col])\n",
    "    if all_same(diags):\n",
    "        print(f\"Player {diags[0]} is the Winner diagnolly (/)!!!\")\n",
    "        return True\n",
    "\n",
    "    diag=[]\n",
    "    for ix in range (len(game)):\n",
    "        diag.append(game[ix][ix])\n",
    "    if all_same(diag):\n",
    "        print(f\"Player {diag[0]} is the Winner diagnolly (\\\\)!!!\")\n",
    "        return True\n",
    "    \n",
    "# this code for Vertical\n",
    "    for col in range(len(game)):\n",
    "        check=[]\n",
    "        for row in game:\n",
    "            check.append(row[col])\n",
    "        if all_same(check):\n",
    "            print(f\"Player {check[0]} is the Winner Vertically (|)!!!\")\n",
    "            return True\n",
    "    return False\n",
    "\n",
    "def game_board(game_map,current_player=0,row_num=0,col_num=0, just_display=0):\n",
    "    # to handle the error we use try:   except:\n",
    "    try:\n",
    "        if game_map[row_num][col_num] !=0:\n",
    "            print(\"This position is already used, chose another!\")\n",
    "            return game_map, False # to back to your turn again\n",
    "        print (\"   \"+\"  \".join([str(i) for i in range(game_size)]))\n",
    "        if not just_display:\n",
    "            # assign value ro the list\n",
    "            game_map[row_num][col_num]=current_player\n",
    "        for count,i in enumerate(game_map):\n",
    "            print(count,i)\n",
    "        print('-------------')\n",
    "        return game_map, True\n",
    "    # the except to handle the error\n",
    "    except IndexError as e:\n",
    "        print(\"Error: make sure you input row/column as 0 1 0r 2?\",e)\n",
    "        return game_map, False \n",
    "    except Exception as e:\n",
    "        print(\"Something wrong!\",e)\n",
    "        return game_map, False\n",
    "play = True\n",
    "players =[1,2]\n",
    "while play:\n",
    "    game_size = int(input(\"what size game of tic tac to: \"))\n",
    "    game=[[0 for i in range(game_size)] for i in range(game_size)]\n",
    "\n",
    "    game_won = False\n",
    "    game,_ = game_board(game, just_display=True)\n",
    "    player_choice = itertools.cycle([1,2])\n",
    "    while not game_won:\n",
    "        current_player=next(player_choice)\n",
    "        print(f\"Current Player: {current_player}\")\n",
    "        played = False\n",
    "        while not played:\n",
    "            column_choice= int(input(\"what column do you want to play? (0,1,2): \"))\n",
    "            row_choice= int(input(\"what row do you want to play? (0,1,2): \"))\n",
    "            game,played = game_board(game, current_player,row_choice,column_choice)\n",
    "        \n",
    "        if win(game):\n",
    "            game_won = True\n",
    "            again=input(\"the game is over, would you like to play again? (y/n)\")\n",
    "            if again.lower() == \"y\":\n",
    "                print(\"restarting\")\n",
    "            elif again.lower() == \"n\":\n",
    "                print(\"Byeeeee\")\n",
    "                play = False\n",
    "            else:\n",
    "                print(\"not a valid answer, so .... c u l8r aligator\")\n",
    "                play = False"
   ]
  }
 ],
 "metadata": {
  "kernelspec": {
   "display_name": "Python 3",
   "language": "python",
   "name": "python3"
  },
  "language_info": {
   "codemirror_mode": {
    "name": "ipython",
    "version": 3
   },
   "file_extension": ".py",
   "mimetype": "text/x-python",
   "name": "python",
   "nbconvert_exporter": "python",
   "pygments_lexer": "ipython3",
   "version": "3.7.4"
  }
 },
 "nbformat": 4,
 "nbformat_minor": 2
}
